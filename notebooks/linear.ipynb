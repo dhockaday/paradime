{
 "cells": [
  {
   "cell_type": "code",
   "execution_count": 1,
   "metadata": {},
   "outputs": [],
   "source": [
    "import sys\n",
    "sys.path.append('../')"
   ]
  },
  {
   "cell_type": "code",
   "execution_count": 2,
   "metadata": {},
   "outputs": [],
   "source": [
    "import numpy as np\n",
    "import torch\n",
    "import sklearn.datasets\n",
    "import sklearn.decomposition\n",
    "import sklearn.manifold\n",
    "from matplotlib import pyplot as plt\n",
    "\n",
    "import paradime.dr\n",
    "import paradime.relations\n",
    "import paradime.transforms\n",
    "import paradime.loss"
   ]
  },
  {
   "cell_type": "code",
   "execution_count": 3,
   "metadata": {},
   "outputs": [],
   "source": [
    "diabetes = sklearn.datasets.load_diabetes()\n",
    "data = diabetes['data']"
   ]
  },
  {
   "cell_type": "code",
   "execution_count": 4,
   "metadata": {},
   "outputs": [
    {
     "data": {
      "text/plain": [
       "PCA()"
      ]
     },
     "execution_count": 4,
     "metadata": {},
     "output_type": "execute_result"
    }
   ],
   "source": [
    "pca = sklearn.decomposition.PCA()\n",
    "pca.fit(data)"
   ]
  },
  {
   "cell_type": "code",
   "execution_count": 5,
   "metadata": {},
   "outputs": [
    {
     "name": "stdout",
     "output_type": "stream",
     "text": [
      "2022-08-26 16:04:18,355: Registering dataset.\n",
      "2022-08-26 16:04:18,356: Beginning training phase 'None'.\n",
      "2022-08-26 16:04:18,365: Loss after epoch 0: 0.022928181919269264\n",
      "2022-08-26 16:04:18,379: Loss after epoch 2: 0.008347461116500199\n",
      "2022-08-26 16:04:18,392: Loss after epoch 4: 0.003057146357605234\n",
      "2022-08-26 16:04:18,405: Loss after epoch 6: 0.0013236483573564328\n",
      "2022-08-26 16:04:18,423: Loss after epoch 8: 0.0006021109256835189\n",
      "2022-08-26 16:04:18,438: Loss after epoch 10: 0.0002844303544407012\n",
      "2022-08-26 16:04:18,453: Loss after epoch 12: 0.0001489514597778907\n",
      "2022-08-26 16:04:18,468: Loss after epoch 14: 8.644412127978285e-05\n",
      "2022-08-26 16:04:18,482: Loss after epoch 16: 5.7492864470987115e-05\n",
      "2022-08-26 16:04:18,497: Loss after epoch 18: 4.2509790318945306e-05\n"
     ]
    }
   ],
   "source": [
    "pd_pca = paradime.dr.ParametricDR(\n",
    "    model=torch.nn.Linear(10,10,bias=False),\n",
    "    verbose=True,\n",
    ")\n",
    "pd_pca.register_dataset({\n",
    "    'data': data,\n",
    "    'pca': pca.transform(data),\n",
    "})\n",
    "pd_pca.add_training_phase(\n",
    "    epochs=20,\n",
    "    batch_size=50,\n",
    "    loss=paradime.loss.PositionLoss(\n",
    "        position_key='pca',\n",
    "        embedding_method='forward',\n",
    "    ),\n",
    "    report_interval=2,\n",
    ")\n",
    "pd_pca.train()"
   ]
  },
  {
   "cell_type": "code",
   "execution_count": 6,
   "metadata": {},
   "outputs": [
    {
     "data": {
      "text/plain": [
       "<matplotlib.image.AxesImage at 0x2b616deac10>"
      ]
     },
     "execution_count": 6,
     "metadata": {},
     "output_type": "execute_result"
    },
    {
     "data": {
      "image/png": "[encoded data removed]",
      "text/plain": [
       "<Figure size 432x288 with 1 Axes>"
      ]
     },
     "metadata": {
      "needs_background": "light"
     },
     "output_type": "display_data"
    }
   ],
   "source": [
    "plt.imshow(pd_pca.model.weight.detach().numpy())"
   ]
  },
  {
   "cell_type": "code",
   "execution_count": 7,
   "metadata": {},
   "outputs": [
    {
     "name": "stdout",
     "output_type": "stream",
     "text": [
      "2022-08-26 16:04:41,279: Registering dataset.\n",
      "2022-08-26 16:04:41,280: Computing global relations 'rel'.\n",
      "2022-08-26 16:04:41,280: Calculating pairwise distances.\n",
      "2022-08-26 16:04:41,294: Beginning training phase 'None'.\n",
      "2022-08-26 16:04:41,300: Loss after epoch 0: 0.02388608339242637\n",
      "2022-08-26 16:04:41,314: Loss after epoch 2: 0.009400669252499938\n",
      "2022-08-26 16:04:41,330: Loss after epoch 4: 0.0038423446530941874\n",
      "2022-08-26 16:04:41,347: Loss after epoch 6: 0.0016425361682195216\n",
      "2022-08-26 16:04:41,362: Loss after epoch 8: 0.0007013612921582535\n",
      "2022-08-26 16:04:41,377: Loss after epoch 10: 0.0003345152690599207\n",
      "2022-08-26 16:04:41,391: Loss after epoch 12: 0.0001825347644626163\n",
      "2022-08-26 16:04:41,405: Loss after epoch 14: 0.00011693445230775978\n",
      "2022-08-26 16:04:41,419: Loss after epoch 16: 8.34915822451876e-05\n",
      "2022-08-26 16:04:41,434: Loss after epoch 18: 6.33838549219945e-05\n"
     ]
    }
   ],
   "source": [
    "pd_mds = paradime.dr.ParametricDR(\n",
    "    model=torch.nn.Linear(10,10,bias=False),\n",
    "    global_relations=paradime.relations.PDist(),\n",
    "    batch_relations=paradime.relations.DifferentiablePDist(\n",
    "        transform=paradime.transforms.ToSquareTensor()\n",
    "    ),\n",
    "    verbose=True,\n",
    ")\n",
    "pd_mds.register_dataset({\n",
    "    'data': torch.tensor(data).float(),\n",
    "    'pca': torch.tensor(pca.transform(data)).float(),\n",
    "})\n",
    "pd_mds.add_training_phase(\n",
    "    epochs=20,\n",
    "    batch_size=50,\n",
    "    loss=paradime.loss.PositionLoss(\n",
    "        position_key='pca',\n",
    "        embedding_method='forward',\n",
    "    ),\n",
    "    report_interval=2,\n",
    ")\n",
    "pd_mds.train()"
   ]
  },
  {
   "cell_type": "code",
   "execution_count": 8,
   "metadata": {},
   "outputs": [
    {
     "data": {
      "text/plain": [
       "<matplotlib.image.AxesImage at 0x2b616b51370>"
      ]
     },
     "execution_count": 8,
     "metadata": {},
     "output_type": "execute_result"
    },
    {
     "data": {
      "image/png": "[encoded data removed]",
      "text/plain": [
       "<Figure size 432x288 with 1 Axes>"
      ]
     },
     "metadata": {
      "needs_background": "light"
     },
     "output_type": "display_data"
    }
   ],
   "source": [
    "plt.imshow(pd_mds.model.weight.detach().numpy())"
   ]
  },
  {
   "cell_type": "code",
   "execution_count": 48,
   "metadata": {},
   "outputs": [
    {
     "data": {
      "text/plain": [
       "Text(0.5, 1.0, 'MDS Loss')"
      ]
     },
     "execution_count": 48,
     "metadata": {},
     "output_type": "execute_result"
    },
    {
     "data": {
      "image/png": "[encoded data removed]",
      "text/plain": [
       "<Figure size 432x288 with 3 Axes>"
      ]
     },
     "metadata": {
      "needs_background": "light"
     },
     "output_type": "display_data"
    }
   ],
   "source": [
    "fig, (ax1, ax2, ax3) = plt.subplots(1, 3)\n",
    "ax1.imshow(pca.components_, cmap=cmap)\n",
    "ax1.set_axis_off()\n",
    "ax1.set_title(\"PCA\")\n",
    "ax2.imshow(pd_pca.model.weight.detach().numpy())\n",
    "ax2.set_axis_off()\n",
    "ax2.set_title(\"Position Loss\")\n",
    "ax3.imshow(pd_mds.model.weight.detach().numpy())\n",
    "ax3.set_axis_off()\n",
    "ax3.set_title(\"MDS Loss\")"
   ]
  },
  {
   "cell_type": "code",
   "execution_count": 29,
   "metadata": {},
   "outputs": [],
   "source": [
    "import matplotlib.colors"
   ]
  },
  {
   "cell_type": "code",
   "execution_count": 59,
   "metadata": {},
   "outputs": [],
   "source": [
    "colors = [ paradime.utils.plotting.get_color_palette()[k] for k in ['petrol', 'aqua', 'yellow'] ]\n",
    "cmap = matplotlib.colors.LinearSegmentedColormap.from_list(\"paradime\", colors)"
   ]
  },
  {
   "cell_type": "code",
   "execution_count": 60,
   "metadata": {},
   "outputs": [
    {
     "data": {
      "image/png": "[encoded data removed]",
      "text/html": [
       "<div style=\"vertical-align: middle;\"><strong>paradime</strong> </div><div class=\"cmap\"><img alt=\"paradime colormap\" title=\"paradime\" style=\"border: 1px solid #555;\" src=\"data:image/png;base64,iVBORw0KGgoAAAANSUhEUgAAAgAAAABACAYAAABsv8+/AAAAF3RFWHRUaXRsZQBwYXJhZGltZSBjb2xvcm1hcLsRk3cAAAAddEVYdERlc2NyaXB0aW9uAHBhcmFkaW1lIGNvbG9ybWFwkm90XgAAADB0RVh0QXV0aG9yAE1hdHBsb3RsaWIgdjMuNS4xLCBodHRwczovL21hdHBsb3RsaWIub3Jn97fOzwAAADJ0RVh0U29mdHdhcmUATWF0cGxvdGxpYiB2My41LjEsIGh0dHBzOi8vbWF0cGxvdGxpYi5vcmfZEVHoAAABlElEQVR4nO3WQU7DQBAAwQzv4Gkc+P8jCJcQESLLQdYGpK66WN61V2Mlh57Xt/fz6buZy3XnfvHz88vn988/Ntc86buPz/M3c82TvvvuO//bXIfnee5cX7cvp/Pl+nFzP9f12/2t9b33lp07a869Xz+6/+B7s+jcVfNu7c+ac+fH7/f4/sFzZ9G5q+bd2r/+vwCAHAEAAEECAACCBAAABAkAAAgSAAAQJAAAIEgAAECQAACAIAEAAEECAACCBAAABAkAAAgSAAAQJAAAIEgAAECQAACAIAEAAEECAACCBAAABAkAAAgSAAAQJAAAIEgAAECQAACAIAEAAEECAACCBAAABAkAAAgSAAAQJAAAIEgAAECQAACAIAEAAEECAACCBAAABAkAAAgSAAAQJAAAIEgAAECQAACAIAEAAEECAACCBAAABAkAAAgSAAAQJAAAIEgAAECQAACAIAEAAEECAACCBAAABAkAAAgSAAAQJAAAIEgAAECQAACAIAEAAEECAACCBAAABAkAAAgSAAAQJAAAIOgTI56CSuQZi48AAAAASUVORK5CYII=\"></div><div style=\"vertical-align: middle; max-width: 514px; display: flex; justify-content: space-between;\"><div style=\"float: left;\"><div title=\"#1c5c60ff\" style=\"display: inline-block; width: 1em; height: 1em; margin: 0; vertical-align: middle; border: 1px solid #555; background-color: #1c5c60ff;\"></div> under</div><div style=\"margin: 0 auto; display: inline-block;\">bad <div title=\"#00000000\" style=\"display: inline-block; width: 1em; height: 1em; margin: 0; vertical-align: middle; border: 1px solid #555; background-color: #00000000;\"></div></div><div style=\"float: right;\">over <div title=\"#ffcc00ff\" style=\"display: inline-block; width: 1em; height: 1em; margin: 0; vertical-align: middle; border: 1px solid #555; background-color: #ffcc00ff;\"></div></div>"
      ],
      "text/plain": [
       "<matplotlib.colors.LinearSegmentedColormap at 0x2b61b9d7250>"
      ]
     },
     "execution_count": 60,
     "metadata": {},
     "output_type": "execute_result"
    }
   ],
   "source": [
    "cmap"
   ]
  },
  {
   "cell_type": "code",
   "execution_count": 53,
   "metadata": {},
   "outputs": [
    {
     "data": {
      "text/plain": [
       "<Figure size 432x288 with 0 Axes>"
      ]
     },
     "metadata": {},
     "output_type": "display_data"
    }
   ],
   "source": [
    "matplotlib.colors.colo"
   ]
  },
  {
   "cell_type": "code",
   "execution_count": 56,
   "metadata": {},
   "outputs": [
    {
     "data": {
      "image/png": "[encoded data removed]",
      "text/html": [
       "<div style=\"vertical-align: middle;\"><strong>viridis</strong> </div><div class=\"cmap\"><img alt=\"viridis colormap\" title=\"viridis\" style=\"border: 1px solid #555;\" src=\"data:image/png;base64,iVBORw0KGgoAAAANSUhEUgAAAgAAAABACAYAAABsv8+/AAAAFnRFWHRUaXRsZQB2aXJpZGlzIGNvbG9ybWFwrE0mCwAAABx0RVh0RGVzY3JpcHRpb24AdmlyaWRpcyBjb2xvcm1hcAtjl3IAAAAwdEVYdEF1dGhvcgBNYXRwbG90bGliIHYzLjUuMSwgaHR0cHM6Ly9tYXRwbG90bGliLm9yZ/e3zs8AAAAydEVYdFNvZnR3YXJlAE1hdHBsb3RsaWIgdjMuNS4xLCBodHRwczovL21hdHBsb3RsaWIub3Jn2RFR6AAAAiJJREFUeJzt1kGSmzAURdEv2FqWkP0vJfQgMhQCGceV2Ttn4pL0EVQPum771X5vVVXVWv39XfrPeV193V5zS98f1sf5/fPjey73zu6/3Hv/uz2cz57f9vP68rxO9+/zre7nhvvG+et6vH92bw3PDfcsD+eX59+/53n96f3362/f87/vf5yr93Of72/fPV9P89tX3zGeH3OT8/07Zs+/32+TuXZZD8/VODf8W5uuH/b7vctlfuv7NazH8/t7ZnP7bz2cD3NL+/Ph3Hl+/efz83vWun/vuL++nquH9eu9w/uu6/vvOO49f/8xf77vOj+8b7Y/fMfse9ca/y7nv+d62a++X+f1vt+G/b7u+/u6TxzzS//tc2053QMABBEAABBIAABAIAEAAIEEAAAEEgAAEEgAAEAgAQAAgQQAAAQSAAAQSAAAQCABAACBBAAABBIAABBIAABAIAEAAIEEAAAEEgAAEEgAAEAgAQAAgQQAAAQSAAAQSAAAQCABAACBBAAABBIAABBIAABAIAEAAIEEAAAEEgAAEEgAAEAgAQAAgQQAAAQSAAAQSAAAQCABAACBBAAABBIAABBIAABAIAEAAIEEAAAEEgAAEEgAAEAgAQAAgQQAAAQSAAAQSAAAQCABAACBBAAABBIAABBIAABAIAEAAIEEAAAEEgAAEEgAAEAgAQAAgQQAAAQSAAAQSAAAQCABAACBBAAABBIAABBIAABAoB9ucImHxcKZtAAAAABJRU5ErkJggg==\"></div><div style=\"vertical-align: middle; max-width: 514px; display: flex; justify-content: space-between;\"><div style=\"float: left;\"><div title=\"#440154ff\" style=\"display: inline-block; width: 1em; height: 1em; margin: 0; vertical-align: middle; border: 1px solid #555; background-color: #440154ff;\"></div> under</div><div style=\"margin: 0 auto; display: inline-block;\">bad <div title=\"#00000000\" style=\"display: inline-block; width: 1em; height: 1em; margin: 0; vertical-align: middle; border: 1px solid #555; background-color: #00000000;\"></div></div><div style=\"float: right;\">over <div title=\"#fde725ff\" style=\"display: inline-block; width: 1em; height: 1em; margin: 0; vertical-align: middle; border: 1px solid #555; background-color: #fde725ff;\"></div></div>"
      ],
      "text/plain": [
       "<matplotlib.colors.ListedColormap at 0x2b613752b20>"
      ]
     },
     "execution_count": 56,
     "metadata": {},
     "output_type": "execute_result"
    }
   ],
   "source": [
    "plt.cm.viridis"
   ]
  },
  {
   "cell_type": "code",
   "execution_count": 57,
   "metadata": {},
   "outputs": [],
   "source": [
    "palette = paradime.utils.plotting.get_color_palette()"
   ]
  },
  {
   "cell_type": "code",
   "execution_count": 58,
   "metadata": {},
   "outputs": [
    {
     "data": {
      "text/plain": [
       "[(0.267004, 0.004874, 0.329415, 1.0),\n",
       " (0.26851, 0.009605, 0.335427, 1.0),\n",
       " (0.269944, 0.014625, 0.341379, 1.0),\n",
       " (0.271305, 0.019942, 0.347269, 1.0),\n",
       " (0.273809, 0.031497, 0.358853, 1.0),\n",
       " (0.274952, 0.037752, 0.364543, 1.0),\n",
       " (0.276022, 0.044167, 0.370164, 1.0),\n",
       " (0.277018, 0.050344, 0.375715, 1.0),\n",
       " (0.278791, 0.062145, 0.386592, 1.0),\n",
       " (0.279566, 0.067836, 0.391917, 1.0),\n",
       " (0.280267, 0.073417, 0.397163, 1.0),\n",
       " (0.281446, 0.08432, 0.407414, 1.0),\n",
       " (0.281924, 0.089666, 0.412415, 1.0),\n",
       " (0.282327, 0.094955, 0.417331, 1.0),\n",
       " (0.282656, 0.100196, 0.42216, 1.0),\n",
       " (0.283091, 0.110553, 0.431554, 1.0),\n",
       " (0.283197, 0.11568, 0.436115, 1.0),\n",
       " (0.283229, 0.120777, 0.440584, 1.0),\n",
       " (0.283072, 0.130895, 0.449241, 1.0),\n",
       " (0.282884, 0.13592, 0.453427, 1.0),\n",
       " (0.282623, 0.140926, 0.457517, 1.0),\n",
       " (0.28229, 0.145912, 0.46151, 1.0),\n",
       " (0.281412, 0.155834, 0.469201, 1.0),\n",
       " (0.280868, 0.160771, 0.472899, 1.0),\n",
       " (0.280255, 0.165693, 0.476498, 1.0),\n",
       " (0.278826, 0.17549, 0.483397, 1.0),\n",
       " (0.278012, 0.180367, 0.486697, 1.0),\n",
       " (0.277134, 0.185228, 0.489898, 1.0),\n",
       " (0.276194, 0.190074, 0.493001, 1.0),\n",
       " (0.274128, 0.199721, 0.498911, 1.0),\n",
       " (0.273006, 0.20452, 0.501721, 1.0),\n",
       " (0.271828, 0.209303, 0.504434, 1.0),\n",
       " (0.270595, 0.214069, 0.507052, 1.0),\n",
       " (0.267968, 0.223549, 0.512008, 1.0),\n",
       " (0.26658, 0.228262, 0.514349, 1.0),\n",
       " (0.265145, 0.232956, 0.516599, 1.0),\n",
       " (0.262138, 0.242286, 0.520837, 1.0),\n",
       " (0.260571, 0.246922, 0.522828, 1.0),\n",
       " (0.258965, 0.251537, 0.524736, 1.0),\n",
       " (0.257322, 0.25613, 0.526563, 1.0),\n",
       " (0.253935, 0.265254, 0.529983, 1.0),\n",
       " (0.252194, 0.269783, 0.531579, 1.0),\n",
       " (0.250425, 0.27429, 0.533103, 1.0),\n",
       " (0.246811, 0.283237, 0.535941, 1.0),\n",
       " (0.244972, 0.287675, 0.53726, 1.0),\n",
       " (0.243113, 0.292092, 0.538516, 1.0),\n",
       " (0.241237, 0.296485, 0.539709, 1.0),\n",
       " (0.237441, 0.305202, 0.541921, 1.0),\n",
       " (0.235526, 0.309527, 0.542944, 1.0),\n",
       " (0.233603, 0.313828, 0.543914, 1.0),\n",
       " (0.229739, 0.322361, 0.545706, 1.0),\n",
       " (0.227802, 0.326594, 0.546532, 1.0),\n",
       " (0.225863, 0.330805, 0.547314, 1.0),\n",
       " (0.223925, 0.334994, 0.548053, 1.0),\n",
       " (0.220057, 0.343307, 0.549413, 1.0),\n",
       " (0.21813, 0.347432, 0.550038, 1.0),\n",
       " (0.21621, 0.351535, 0.550627, 1.0),\n",
       " (0.214298, 0.355619, 0.551184, 1.0),\n",
       " (0.210503, 0.363727, 0.552206, 1.0),\n",
       " (0.208623, 0.367752, 0.552675, 1.0),\n",
       " (0.206756, 0.371758, 0.553117, 1.0),\n",
       " (0.203063, 0.379716, 0.553925, 1.0),\n",
       " (0.201239, 0.38367, 0.554294, 1.0),\n",
       " (0.19943, 0.387607, 0.554642, 1.0),\n",
       " (0.197636, 0.391528, 0.554969, 1.0),\n",
       " (0.1941, 0.399323, 0.555565, 1.0),\n",
       " (0.192357, 0.403199, 0.555836, 1.0),\n",
       " (0.190631, 0.407061, 0.556089, 1.0),\n",
       " (0.187231, 0.414746, 0.556547, 1.0),\n",
       " (0.185556, 0.41857, 0.556753, 1.0),\n",
       " (0.183898, 0.422383, 0.556944, 1.0),\n",
       " (0.182256, 0.426184, 0.55712, 1.0),\n",
       " (0.179019, 0.433756, 0.55743, 1.0),\n",
       " (0.177423, 0.437527, 0.557565, 1.0),\n",
       " (0.175841, 0.44129, 0.557685, 1.0),\n",
       " (0.172719, 0.448791, 0.557885, 1.0),\n",
       " (0.171176, 0.45253, 0.557965, 1.0),\n",
       " (0.169646, 0.456262, 0.55803, 1.0),\n",
       " (0.168126, 0.459988, 0.558082, 1.0),\n",
       " (0.165117, 0.467423, 0.558141, 1.0),\n",
       " (0.163625, 0.471133, 0.558148, 1.0),\n",
       " (0.162142, 0.474838, 0.55814, 1.0),\n",
       " (0.160665, 0.47854, 0.558115, 1.0),\n",
       " (0.157729, 0.485932, 0.558013, 1.0),\n",
       " (0.15627, 0.489624, 0.557936, 1.0),\n",
       " (0.154815, 0.493313, 0.55784, 1.0),\n",
       " (0.151918, 0.500685, 0.557587, 1.0),\n",
       " (0.150476, 0.504369, 0.55743, 1.0),\n",
       " (0.149039, 0.508051, 0.55725, 1.0),\n",
       " (0.147607, 0.511733, 0.557049, 1.0),\n",
       " (0.144759, 0.519093, 0.556572, 1.0),\n",
       " (0.143343, 0.522773, 0.556295, 1.0),\n",
       " (0.141935, 0.526453, 0.555991, 1.0),\n",
       " (0.139147, 0.533812, 0.555298, 1.0),\n",
       " (0.13777, 0.537492, 0.554906, 1.0),\n",
       " (0.136408, 0.541173, 0.554483, 1.0),\n",
       " (0.135066, 0.544853, 0.554029, 1.0),\n",
       " (0.132444, 0.552216, 0.553018, 1.0),\n",
       " (0.131172, 0.555899, 0.552459, 1.0),\n",
       " (0.129933, 0.559582, 0.551864, 1.0),\n",
       " (0.127568, 0.566949, 0.550556, 1.0),\n",
       " (0.126453, 0.570633, 0.549841, 1.0),\n",
       " (0.125394, 0.574318, 0.549086, 1.0),\n",
       " (0.124395, 0.578002, 0.548287, 1.0),\n",
       " (0.122606, 0.585371, 0.546557, 1.0),\n",
       " (0.121831, 0.589055, 0.545623, 1.0),\n",
       " (0.121148, 0.592739, 0.544641, 1.0),\n",
       " (0.120565, 0.596422, 0.543611, 1.0),\n",
       " (0.119738, 0.603785, 0.5414, 1.0),\n",
       " (0.119512, 0.607464, 0.540218, 1.0),\n",
       " (0.119423, 0.611141, 0.538982, 1.0),\n",
       " (0.119699, 0.61849, 0.536347, 1.0),\n",
       " (0.120081, 0.622161, 0.534946, 1.0),\n",
       " (0.120638, 0.625828, 0.533488, 1.0),\n",
       " (0.12138, 0.629492, 0.531973, 1.0),\n",
       " (0.123444, 0.636809, 0.528763, 1.0),\n",
       " (0.12478, 0.640461, 0.527068, 1.0),\n",
       " (0.126326, 0.644107, 0.525311, 1.0),\n",
       " (0.130067, 0.651384, 0.521608, 1.0),\n",
       " (0.132268, 0.655014, 0.519661, 1.0),\n",
       " (0.134692, 0.658636, 0.517649, 1.0),\n",
       " (0.137339, 0.662252, 0.515571, 1.0),\n",
       " (0.143303, 0.669459, 0.511215, 1.0),\n",
       " (0.146616, 0.67305, 0.508936, 1.0),\n",
       " (0.150148, 0.676631, 0.506589, 1.0),\n",
       " (0.157851, 0.683765, 0.501686, 1.0),\n",
       " (0.162016, 0.687316, 0.499129, 1.0),\n",
       " (0.166383, 0.690856, 0.496502, 1.0),\n",
       " (0.170948, 0.694384, 0.493803, 1.0),\n",
       " (0.180653, 0.701402, 0.488189, 1.0),\n",
       " (0.185783, 0.704891, 0.485273, 1.0),\n",
       " (0.19109, 0.708366, 0.482284, 1.0),\n",
       " (0.196571, 0.711827, 0.479221, 1.0),\n",
       " (0.20803, 0.718701, 0.472873, 1.0),\n",
       " (0.214, 0.722114, 0.469588, 1.0),\n",
       " (0.220124, 0.725509, 0.466226, 1.0),\n",
       " (0.232815, 0.732247, 0.459277, 1.0),\n",
       " (0.239374, 0.735588, 0.455688, 1.0),\n",
       " (0.24607, 0.73891, 0.452024, 1.0),\n",
       " (0.252899, 0.742211, 0.448284, 1.0),\n",
       " (0.266941, 0.748751, 0.440573, 1.0),\n",
       " (0.274149, 0.751988, 0.436601, 1.0),\n",
       " (0.281477, 0.755203, 0.432552, 1.0),\n",
       " (0.296479, 0.761561, 0.424223, 1.0),\n",
       " (0.304148, 0.764704, 0.419943, 1.0),\n",
       " (0.311925, 0.767822, 0.415586, 1.0),\n",
       " (0.319809, 0.770914, 0.411152, 1.0),\n",
       " (0.335885, 0.777018, 0.402049, 1.0),\n",
       " (0.344074, 0.780029, 0.397381, 1.0),\n",
       " (0.35236, 0.783011, 0.392636, 1.0),\n",
       " (0.369214, 0.788888, 0.382914, 1.0),\n",
       " (0.377779, 0.791781, 0.377939, 1.0),\n",
       " (0.386433, 0.794644, 0.372886, 1.0),\n",
       " (0.395174, 0.797475, 0.367757, 1.0),\n",
       " (0.412913, 0.803041, 0.357269, 1.0),\n",
       " (0.421908, 0.805774, 0.35191, 1.0),\n",
       " (0.430983, 0.808473, 0.346476, 1.0),\n",
       " (0.440137, 0.811138, 0.340967, 1.0),\n",
       " (0.458674, 0.816363, 0.329727, 1.0),\n",
       " (0.468053, 0.818921, 0.323998, 1.0),\n",
       " (0.477504, 0.821444, 0.318195, 1.0),\n",
       " (0.496615, 0.826376, 0.306377, 1.0),\n",
       " (0.506271, 0.828786, 0.300362, 1.0),\n",
       " (0.515992, 0.831158, 0.294279, 1.0),\n",
       " (0.525776, 0.833491, 0.288127, 1.0),\n",
       " (0.545524, 0.838039, 0.275626, 1.0),\n",
       " (0.555484, 0.840254, 0.269281, 1.0),\n",
       " (0.565498, 0.84243, 0.262877, 1.0),\n",
       " (0.585678, 0.846661, 0.249897, 1.0),\n",
       " (0.595839, 0.848717, 0.243329, 1.0),\n",
       " (0.606045, 0.850733, 0.236712, 1.0),\n",
       " (0.616293, 0.852709, 0.230052, 1.0),\n",
       " (0.636902, 0.856542, 0.21662, 1.0),\n",
       " (0.647257, 0.8584, 0.209861, 1.0),\n",
       " (0.657642, 0.860219, 0.203082, 1.0),\n",
       " (0.678489, 0.863742, 0.189503, 1.0),\n",
       " (0.688944, 0.865448, 0.182725, 1.0),\n",
       " (0.699415, 0.867117, 0.175971, 1.0),\n",
       " (0.709898, 0.868751, 0.169257, 1.0),\n",
       " (0.730889, 0.871916, 0.156029, 1.0),\n",
       " (0.741388, 0.873449, 0.149561, 1.0),\n",
       " (0.751884, 0.874951, 0.143228, 1.0),\n",
       " (0.762373, 0.876424, 0.137064, 1.0),\n",
       " (0.783315, 0.879285, 0.125405, 1.0),\n",
       " (0.79376, 0.880678, 0.120005, 1.0),\n",
       " (0.804182, 0.882046, 0.114965, 1.0),\n",
       " (0.82494, 0.88472, 0.106217, 1.0),\n",
       " (0.83527, 0.886029, 0.102646, 1.0),\n",
       " (0.845561, 0.887322, 0.099702, 1.0),\n",
       " (0.85581, 0.888601, 0.097452, 1.0),\n",
       " (0.876168, 0.891125, 0.09525, 1.0),\n",
       " (0.886271, 0.892374, 0.095374, 1.0),\n",
       " (0.89632, 0.893616, 0.096335, 1.0),\n",
       " (0.916242, 0.896091, 0.100717, 1.0),\n",
       " (0.926106, 0.89733, 0.104071, 1.0),\n",
       " (0.935904, 0.89857, 0.108131, 1.0),\n",
       " (0.945636, 0.899815, 0.112838, 1.0),\n",
       " (0.964894, 0.902323, 0.123941, 1.0),\n",
       " (0.974417, 0.90359, 0.130215, 1.0),\n",
       " (0.983868, 0.904867, 0.136897, 1.0)]"
      ]
     },
     "execution_count": 58,
     "metadata": {},
     "output_type": "execute_result"
    }
   ],
   "source": [
    "matplotlib.colors.rgb2lhc([ plt.cm.viridis(i) for i in np.arange(0.,1.,0.005) ]"
   ]
  },
  {
   "cell_type": "code",
   "execution_count": null,
   "metadata": {},
   "outputs": [],
   "source": []
  }
 ],
 "metadata": {
  "kernelspec": {
   "display_name": "Python 3.9.12 ('ml')",
   "language": "python",
   "name": "python3"
  },
  "language_info": {
   "codemirror_mode": {
    "name": "ipython",
    "version": 3
   },
   "file_extension": ".py",
   "mimetype": "text/x-python",
   "name": "python",
   "nbconvert_exporter": "python",
   "pygments_lexer": "ipython3",
   "version": "3.9.12"
  },
  "orig_nbformat": 4,
  "vscode": {
   "interpreter": {
    "hash": "a7c9f3c5c5217e50e8596266617689c08e27d4baf18921dd4598144a1d3a89bf"
   }
  }
 },
 "nbformat": 4,
 "nbformat_minor": 2
}
