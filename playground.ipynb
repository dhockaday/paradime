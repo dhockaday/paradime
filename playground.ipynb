{
 "cells": [
  {
   "cell_type": "code",
   "execution_count": 1,
   "metadata": {},
   "outputs": [],
   "source": [
    "import typing\n",
    "from scipy.sparse import spmatrix, csr_matrix\n",
    "from nptyping import NDArray, Shape\n",
    "import torch\n",
    "from scipy.spatial.distance import squareform\n",
    "import numpy as np"
   ]
  },
  {
   "cell_type": "code",
   "execution_count": 2,
   "metadata": {},
   "outputs": [],
   "source": [
    "from paradime.dissimilarity import Exact, Precomputed, Differentiable, NeighborBased"
   ]
  },
  {
   "cell_type": "code",
   "execution_count": 3,
   "metadata": {},
   "outputs": [],
   "source": [
    "data = torch.tensor([\n",
    "    [1.,2.,3.],\n",
    "    [4.,5.,6.],\n",
    "    [9.,4.,5.],\n",
    "    [7.,8.,9.]\n",
    "])\n",
    "\n",
    "# labels = torch.tensor([1, 2, 3, 2])\n",
    "\n",
    "# other = torch.tensor([ 100., 200., 150., 50. ])"
   ]
  },
  {
   "cell_type": "code",
   "execution_count": 4,
   "metadata": {},
   "outputs": [],
   "source": [
    "precomp = Precomputed(np.array([\n",
    "    [ 0.        ,  5.19615242,  8.48528137, 10.39230485],\n",
    "    [ 5.19615242,  0.        ,  5.19615242,  5.19615242],\n",
    "    [ 8.48528137,  5.19615242,  0.        ,  6.        ],\n",
    "    [10.39230485,  5.19615242,  6.        ,  0.        ]\n",
    "]))"
   ]
  },
  {
   "cell_type": "code",
   "execution_count": 10,
   "metadata": {},
   "outputs": [
    {
     "data": {
      "text/plain": [
       "array([[ 0.        ,  5.19615242,  8.48528137, 10.39230485],\n",
       "       [ 5.19615242,  0.        ,  5.19615242,  5.19615242],\n",
       "       [ 8.48528137,  5.19615242,  0.        ,  6.        ],\n",
       "       [10.39230485,  5.19615242,  6.        ,  0.        ]])"
      ]
     },
     "execution_count": 10,
     "metadata": {},
     "output_type": "execute_result"
    }
   ],
   "source": [
    "precomp.dissimilarities.to_square_array().diss"
   ]
  },
  {
   "cell_type": "code",
   "execution_count": 4,
   "metadata": {},
   "outputs": [],
   "source": [
    "exact = Exact(keep_result=True, verbose=False)"
   ]
  },
  {
   "cell_type": "code",
   "execution_count": 5,
   "metadata": {},
   "outputs": [],
   "source": [
    "diff = Differentiable()"
   ]
  },
  {
   "cell_type": "code",
   "execution_count": 6,
   "metadata": {},
   "outputs": [],
   "source": [
    "ddata = data.clone().requires_grad_()\n",
    "result = diff.compute_dissimilarities(ddata)"
   ]
  },
  {
   "cell_type": "code",
   "execution_count": 10,
   "metadata": {},
   "outputs": [],
   "source": [
    "result.diss.sum().backward()"
   ]
  },
  {
   "cell_type": "code",
   "execution_count": 12,
   "metadata": {},
   "outputs": [
    {
     "ename": "AttributeError",
     "evalue": "'Exact' object has no attribute 'dissimilarities'",
     "output_type": "error",
     "traceback": [
      "\u001b[1;31m---------------------------------------------------------------------------\u001b[0m",
      "\u001b[1;31mAttributeError\u001b[0m                            Traceback (most recent call last)",
      "\u001b[1;32md:\\Dokumente\\Dissertation\\Code\\Python\\paradime\\playground.ipynb Cell 10'\u001b[0m in \u001b[0;36m<cell line: 1>\u001b[1;34m()\u001b[0m\n\u001b[1;32m----> <a href='vscode-notebook-cell:/d%3A/Dokumente/Dissertation/Code/Python/paradime/playground.ipynb#ch0000008?line=0'>1</a>\u001b[0m exact\u001b[39m.\u001b[39;49mcompute_dissimilarities(data)\n",
      "File \u001b[1;32md:\\Dokumente\\Dissertation\\Code\\Python\\paradime\\paradime\\dissimilarity.py:108\u001b[0m, in \u001b[0;36mExact.compute_dissimilarities\u001b[1;34m(self, X, **kwargs)\u001b[0m\n\u001b[0;32m    <a href='file:///d%3A/Dokumente/Dissertation/Code/Python/paradime/paradime/dissimilarity.py?line=104'>105</a>\u001b[0m \u001b[39melif\u001b[39;00m \u001b[39mself\u001b[39m\u001b[39m.\u001b[39mverbose:\n\u001b[0;32m    <a href='file:///d%3A/Dokumente/Dissertation/Code/Python/paradime/paradime/dissimilarity.py?line=105'>106</a>\u001b[0m     report(\u001b[39m'\u001b[39m\u001b[39mUsing previously calculated distances.\u001b[39m\u001b[39m'\u001b[39m)\n\u001b[1;32m--> <a href='file:///d%3A/Dokumente/Dissertation/Code/Python/paradime/paradime/dissimilarity.py?line=107'>108</a>\u001b[0m \u001b[39mreturn\u001b[39;00m \u001b[39mself\u001b[39;49m\u001b[39m.\u001b[39;49mdissimilarities\n",
      "\u001b[1;31mAttributeError\u001b[0m: 'Exact' object has no attribute 'dissimilarities'"
     ]
    }
   ],
   "source": [
    "exact.compute_dissimilarities(data)"
   ]
  },
  {
   "cell_type": "code",
   "execution_count": 15,
   "metadata": {},
   "outputs": [],
   "source": [
    "randdata = torch.rand((1000,10))"
   ]
  },
  {
   "cell_type": "code",
   "execution_count": 16,
   "metadata": {},
   "outputs": [],
   "source": [
    "nn = NeighborBased(n_neighbors=15)"
   ]
  },
  {
   "cell_type": "code",
   "execution_count": 28,
   "metadata": {},
   "outputs": [
    {
     "data": {
      "text/plain": [
       "9315.312"
      ]
     },
     "execution_count": 28,
     "metadata": {},
     "output_type": "execute_result"
    }
   ],
   "source": [
    "nn.matrix(randdata, out_format='square').sum()"
   ]
  },
  {
   "cell_type": "code",
   "execution_count": null,
   "metadata": {},
   "outputs": [],
   "source": []
  }
 ],
 "metadata": {
  "interpreter": {
   "hash": "a7c9f3c5c5217e50e8596266617689c08e27d4baf18921dd4598144a1d3a89bf"
  },
  "kernelspec": {
   "display_name": "Python 3.9.12 ('ml')",
   "language": "python",
   "name": "python3"
  },
  "language_info": {
   "codemirror_mode": {
    "name": "ipython",
    "version": 3
   },
   "file_extension": ".py",
   "mimetype": "text/x-python",
   "name": "python",
   "nbconvert_exporter": "python",
   "pygments_lexer": "ipython3",
   "version": "3.9.12"
  },
  "orig_nbformat": 4
 },
 "nbformat": 4,
 "nbformat_minor": 2
}
