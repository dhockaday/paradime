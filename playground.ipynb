{
 "cells": [
  {
   "cell_type": "code",
   "execution_count": 1,
   "metadata": {},
   "outputs": [],
   "source": [
    "import typing\n",
    "from scipy.sparse import spmatrix, csr_matrix\n",
    "from nptyping import NDArray, Shape\n",
    "import torch\n",
    "import torchvision\n",
    "from scipy.spatial.distance import squareform\n",
    "import numpy as np"
   ]
  },
  {
   "cell_type": "code",
   "execution_count": 2,
   "metadata": {},
   "outputs": [],
   "source": [
    "from paradime.dissimilarity import NeighborBased\n",
    "from paradime.transforms import PerplexityBased"
   ]
  },
  {
   "cell_type": "code",
   "execution_count": 3,
   "metadata": {},
   "outputs": [],
   "source": [
    "mnist = torchvision.datasets.MNIST(\n",
    "    './data',\n",
    "    train=True,\n",
    "    download=True,\n",
    "    transform=torchvision.transforms.ToTensor()\n",
    ")"
   ]
  },
  {
   "cell_type": "code",
   "execution_count": 4,
   "metadata": {},
   "outputs": [],
   "source": [
    "testdata = mnist.data.reshape(-1, 28*28) / 255.\n",
    "testdata = testdata[:5000]"
   ]
  },
  {
   "cell_type": "code",
   "execution_count": 22,
   "metadata": {},
   "outputs": [],
   "source": [
    "diss = NeighborBased(90,\n",
    "    verbose=True#,\n",
    "    # transform=PerplexityBased(100, verbose=True)\n",
    ")"
   ]
  },
  {
   "cell_type": "code",
   "execution_count": 23,
   "metadata": {},
   "outputs": [
    {
     "name": "stdout",
     "output_type": "stream",
     "text": [
      "2022-06-09 14:55:07.6: Indexing nearest neighbors.\n"
     ]
    }
   ],
   "source": [
    "foo = diss.compute_dissimilarities(testdata)"
   ]
  },
  {
   "cell_type": "code",
   "execution_count": 25,
   "metadata": {},
   "outputs": [
    {
     "data": {
      "text/plain": [
       "array([0.       , 1.7618757, 1.803555 , 2.1294081, 2.254322 , 2.5797842,\n",
       "       2.5990653, 2.6930957, 2.725713 , 2.732613 , 2.7776446, 2.7978187,\n",
       "       2.8240685, 2.868501 , 2.8943913, 2.9352202, 2.938697 , 3.0016272,\n",
       "       3.006217 , 3.038034 , 3.0489962, 3.0714772, 3.094366 , 3.0971954,\n",
       "       3.1039531, 3.1509092, 3.1743858, 3.2142224, 3.2251582, 3.2552493,\n",
       "       3.277315 , 3.2804267, 3.2897778, 3.31383  , 3.3172483, 3.3271432,\n",
       "       3.3332412, 3.347396 , 3.3629594, 3.3787653, 3.3823025, 3.413067 ,\n",
       "       3.4203722, 3.4257028, 3.426751 , 3.4470968, 3.477598 , 3.4822757,\n",
       "       3.4857318, 3.5337207, 3.5435207, 3.5614018, 3.5684206, 3.5750105,\n",
       "       3.588244 , 3.5905168, 3.6100504, 3.6166751, 3.6625352, 3.6680508,\n",
       "       3.678074 , 3.6998873, 3.7219303, 3.7521687, 3.7921772, 3.7960844,\n",
       "       3.7967408, 3.8005688, 3.814733 , 3.8182085, 3.8189616, 3.828528 ,\n",
       "       3.8316555, 3.8729596, 3.8740115, 3.8839252, 3.8992953, 3.899331 ,\n",
       "       3.9016218, 3.9058154, 3.9067054, 3.9087477, 3.935065 , 3.9753797,\n",
       "       3.9795208, 3.9942133, 4.0085974, 4.0172677, 4.04681  , 4.0496874],\n",
       "      dtype=float32)"
      ]
     },
     "execution_count": 25,
     "metadata": {},
     "output_type": "execute_result"
    }
   ],
   "source": [
    "diss.dissimilarities.diss[1][59]"
   ]
  },
  {
   "cell_type": "code",
   "execution_count": 13,
   "metadata": {},
   "outputs": [],
   "source": [
    "import scipy\n",
    "from numba import jit\n",
    "from matplotlib import pyplot as plt"
   ]
  },
  {
   "cell_type": "code",
   "execution_count": 27,
   "metadata": {},
   "outputs": [],
   "source": [
    "def p_i(dists, beta):\n",
    "\n",
    "    x = - dists * beta\n",
    "    y = np.exp(x)\n",
    "    ysum = y.sum()\n",
    "\n",
    "    return y / ysum\n",
    "\n",
    "def find_beta(dists, perp, **kwargs):\n",
    "    return scipy.optimize.root_scalar(\n",
    "        lambda b: entropy(dists, b) - np.log2(perp),\n",
    "        **kwargs\n",
    "    ).root\n",
    "\n",
    "@jit\n",
    "def entropy(dists, beta):\n",
    "\n",
    "    x = dists * beta\n",
    "    y = np.exp(x)\n",
    "    ysum = y.sum()\n",
    "\n",
    "    if ysum < 1e-50:\n",
    "        result = -1.\n",
    "    else:\n",
    "        factor = - 1/(np.log(2.) * ysum)\n",
    "        result = factor * ((y * x) - (y * np.log(ysum))).sum()\n",
    "    \n",
    "    return result"
   ]
  },
  {
   "cell_type": "code",
   "execution_count": 34,
   "metadata": {},
   "outputs": [],
   "source": [
    "ent = [ entropy(foo.diss[1][58, 1:], b) for b in np.arange(-2., 15., 0.1) ]"
   ]
  },
  {
   "cell_type": "code",
   "execution_count": 35,
   "metadata": {},
   "outputs": [
    {
     "data": {
      "text/plain": [
       "[<matplotlib.lines.Line2D at 0x1f3ea8d6a30>]"
      ]
     },
     "execution_count": 35,
     "metadata": {},
     "output_type": "execute_result"
    },
    {
     "data": {
      "image/png": "[encoded data removed]",
      "text/plain": [
       "<Figure size 432x288 with 1 Axes>"
      ]
     },
     "metadata": {
      "needs_background": "light"
     },
     "output_type": "display_data"
    }
   ],
   "source": [
    "plt.plot(ent)"
   ]
  },
  {
   "cell_type": "code",
   "execution_count": 31,
   "metadata": {},
   "outputs": [
    {
     "data": {
      "text/plain": [
       "6.643856189774724"
      ]
     },
     "execution_count": 31,
     "metadata": {},
     "output_type": "execute_result"
    }
   ],
   "source": [
    "np.log2(100.)"
   ]
  },
  {
   "cell_type": "code",
   "execution_count": null,
   "metadata": {},
   "outputs": [],
   "source": []
  }
 ],
 "metadata": {
  "interpreter": {
   "hash": "a7c9f3c5c5217e50e8596266617689c08e27d4baf18921dd4598144a1d3a89bf"
  },
  "kernelspec": {
   "display_name": "Python 3.9.12 ('ml')",
   "language": "python",
   "name": "python3"
  },
  "language_info": {
   "codemirror_mode": {
    "name": "ipython",
    "version": 3
   },
   "file_extension": ".py",
   "mimetype": "text/x-python",
   "name": "python",
   "nbconvert_exporter": "python",
   "pygments_lexer": "ipython3",
   "version": "3.9.12"
  },
  "orig_nbformat": 4
 },
 "nbformat": 4,
 "nbformat_minor": 2
}
