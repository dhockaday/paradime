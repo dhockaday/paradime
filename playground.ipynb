{
 "cells": [
  {
   "cell_type": "code",
   "execution_count": 1,
   "metadata": {},
   "outputs": [],
   "source": [
    "import typing\n",
    "from scipy.sparse import spmatrix, csr_matrix\n",
    "from nptyping import NDArray, Shape\n",
    "import torch\n",
    "from scipy.spatial.distance import squareform\n",
    "import numpy as np"
   ]
  },
  {
   "cell_type": "code",
   "execution_count": 2,
   "metadata": {},
   "outputs": [],
   "source": [
    "from paradime.dissimilarity import NeighborBased\n",
    "from paradime.transforms import PerplexityBased"
   ]
  },
  {
   "cell_type": "code",
   "execution_count": 3,
   "metadata": {},
   "outputs": [],
   "source": [
    "data = torch.rand((500,10))\n",
    "\n",
    "# labels = torch.tensor([1, 2, 3, 2])\n",
    "\n",
    "# other = torch.tensor([ 100., 200., 150., 50. ])"
   ]
  },
  {
   "cell_type": "code",
   "execution_count": 13,
   "metadata": {},
   "outputs": [],
   "source": [
    "diss = NeighborBased(90, verbose=True#,\n",
    "    # transform=PerplexityBased(30, verbose=True)\n",
    ")"
   ]
  },
  {
   "cell_type": "code",
   "execution_count": 10,
   "metadata": {},
   "outputs": [],
   "source": [
    "import scipy.sparse\n",
    "import scipy.optimize\n",
    "from numba import jit"
   ]
  },
  {
   "cell_type": "code",
   "execution_count": 103,
   "metadata": {},
   "outputs": [
    {
     "data": {
      "text/plain": [
       "(array([0, 0, 0, 0, 0, 1, 1, 1, 1, 1, 2, 2, 2, 2, 2, 3, 3, 3, 3, 3, 4, 4,\n",
       "        4, 4, 4], dtype=int64),\n",
       " array([0, 1, 2, 3, 4, 0, 1, 2, 3, 4, 0, 1, 2, 3, 4, 0, 1, 2, 3, 4, 0, 1,\n",
       "        2, 3, 4], dtype=int64))"
      ]
     },
     "execution_count": 103,
     "metadata": {},
     "output_type": "execute_result"
    }
   ],
   "source": [
    "np.where(np.ones((5,5)))"
   ]
  },
  {
   "cell_type": "code",
   "execution_count": 107,
   "metadata": {},
   "outputs": [
    {
     "data": {
      "text/plain": [
       "array([0, 1, 2, 3, 4, 0, 1, 2, 3, 4, 0, 1, 2, 3, 4, 0, 1, 2, 3, 4, 0, 1,\n",
       "       2, 3, 4])"
      ]
     },
     "execution_count": 107,
     "metadata": {},
     "output_type": "execute_result"
    }
   ],
   "source": [
    "np.tile(np.arange(0,5),5)"
   ]
  },
  {
   "cell_type": "code",
   "execution_count": 83,
   "metadata": {},
   "outputs": [],
   "source": [
    "def transform(X, perp):\n",
    "\n",
    "    neighbors, distances = X\n",
    "    p_ij = np.empty_like(distances[:,1:])\n",
    "    num_pts = len(neighbors)\n",
    "    k = neighbors.shape[1]\n",
    "\n",
    "    for i in [0]:#range(num_pts):\n",
    "        beta = find_beta(distances[i][1:], perp)\n",
    "        print(beta)\n",
    "        p_ij[i] = p_i(distances[i][1:], beta)\n",
    "    row_indices = np.repeat(np.arange(num_pts), k-1)\n",
    "\n",
    "    return p_ij, row_indices\n",
    "    # p = scipy.sparse.csr_matrix((\n",
    "    #     p_ij.ravel(),\n",
    "    #     (row_indices, neighbors.ravel())\n",
    "    # ))\n",
    "\n",
    "    # return p\n",
    "\n",
    "@jit\n",
    "def entropy(dists, beta):\n",
    "    x = dists * beta\n",
    "    y = np.exp(x)\n",
    "    ysum = y.sum()\n",
    "\n",
    "    if ysum < 1e-50:\n",
    "        result = -1.\n",
    "    else:\n",
    "        factor = - 1/(np.log(2.) * ysum)\n",
    "        result = factor * ((y * x) - (y * np.log(ysum))).sum()\n",
    "    \n",
    "    return result\n",
    "\n",
    "\n",
    "def p_i(dists, beta):\n",
    "\n",
    "    x = - dists * beta\n",
    "    y = np.exp(x)\n",
    "    ysum = y.sum()\n",
    "\n",
    "    return y / ysum\n",
    "\n",
    "def find_beta(dists, perp, upper_bound = 1e6):\n",
    "    return scipy.optimize.root_scalar(\n",
    "        lambda b: entropy(dists, b) - np.log2(perp),\n",
    "        bracket=(0.,upper_bound)\n",
    "    ).root"
   ]
  },
  {
   "cell_type": "code",
   "execution_count": 84,
   "metadata": {},
   "outputs": [
    {
     "name": "stdout",
     "output_type": "stream",
     "text": [
      "2022-06-03 14:38:37.8: Indexing nearest neighbors.\n"
     ]
    }
   ],
   "source": [
    "foo = diss.compute_dissimilarities(data)"
   ]
  },
  {
   "cell_type": "code",
   "execution_count": 85,
   "metadata": {},
   "outputs": [
    {
     "name": "stdout",
     "output_type": "stream",
     "text": [
      "0.0\n"
     ]
    },
    {
     "data": {
      "text/plain": [
       "(array([[0.01123596, 0.01123596, 0.01123596, ..., 0.01123596, 0.01123596,\n",
       "         0.01123596],\n",
       "        [0.        , 0.        , 0.        , ..., 0.        , 0.        ,\n",
       "         0.        ],\n",
       "        [0.        , 0.        , 0.        , ..., 0.        , 0.        ,\n",
       "         0.        ],\n",
       "        ...,\n",
       "        [1.1092812 , 1.110862  , 1.1120436 , ..., 1.0045443 , 1.0067068 ,\n",
       "         1.0117415 ],\n",
       "        [1.0145838 , 1.0156741 , 1.016718  , ..., 0.79443675, 0.8016059 ,\n",
       "         0.81218356],\n",
       "        [0.81831187, 0.8195888 , 0.82333726, ..., 0.7985423 , 0.8026194 ,\n",
       "         0.80344385]], dtype=float32),\n",
       " array([  0,   0,   0, ..., 499, 499, 499]))"
      ]
     },
     "execution_count": 85,
     "metadata": {},
     "output_type": "execute_result"
    }
   ],
   "source": [
    "transform(foo.diss, 30)"
   ]
  },
  {
   "cell_type": "code",
   "execution_count": 45,
   "metadata": {},
   "outputs": [],
   "source": [
    "from matplotlib import pyplot as plt"
   ]
  },
  {
   "cell_type": "code",
   "execution_count": 52,
   "metadata": {},
   "outputs": [],
   "source": [
    "bar = [ 2**entropy(foo.diss[1][1], i) for i in np.arange(0.0, 50., 0.1) ]"
   ]
  },
  {
   "cell_type": "code",
   "execution_count": 53,
   "metadata": {},
   "outputs": [
    {
     "data": {
      "text/plain": [
       "[<matplotlib.lines.Line2D at 0x18611298d60>]"
      ]
     },
     "execution_count": 53,
     "metadata": {},
     "output_type": "execute_result"
    },
    {
     "data": {
      "image/png": "[encoded data removed]",
      "text/plain": [
       "<Figure size 432x288 with 1 Axes>"
      ]
     },
     "metadata": {
      "needs_background": "light"
     },
     "output_type": "display_data"
    }
   ],
   "source": [
    "plt.plot(bar)"
   ]
  },
  {
   "cell_type": "code",
   "execution_count": null,
   "metadata": {},
   "outputs": [],
   "source": []
  }
 ],
 "metadata": {
  "interpreter": {
   "hash": "a7c9f3c5c5217e50e8596266617689c08e27d4baf18921dd4598144a1d3a89bf"
  },
  "kernelspec": {
   "display_name": "Python 3.9.12 ('ml')",
   "language": "python",
   "name": "python3"
  },
  "language_info": {
   "codemirror_mode": {
    "name": "ipython",
    "version": 3
   },
   "file_extension": ".py",
   "mimetype": "text/x-python",
   "name": "python",
   "nbconvert_exporter": "python",
   "pygments_lexer": "ipython3",
   "version": "3.9.12"
  },
  "orig_nbformat": 4
 },
 "nbformat": 4,
 "nbformat_minor": 2
}
