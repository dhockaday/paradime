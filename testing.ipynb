{
 "cells": [
  {
   "cell_type": "code",
   "execution_count": 1,
   "metadata": {},
   "outputs": [],
   "source": [
    "from datetime import datetime\n",
    "import torch\n",
    "import torch.nn as nn\n",
    "import torch.nn.functional as F\n",
    "import numpy as np\n",
    "from numba import jit\n",
    "from scipy.spatial.distance import pdist, squareform\n",
    "from scipy.optimize import root_scalar, curve_fit\n",
    "from pynndescent import NNDescent\n",
    "from scipy.sparse import csr_matrix\n",
    "from sklearn.decomposition import PCA\n",
    "from matplotlib import pyplot as plt\n",
    "# from umap import UMAP\n",
    "# from umap.parametric_umap import ParametricUMAP\n",
    "# from umap.spectral import spectral_layout"
   ]
  },
  {
   "cell_type": "code",
   "execution_count": 2,
   "metadata": {},
   "outputs": [],
   "source": [
    "from torchvision.datasets import MNIST\n",
    "import torchvision.transforms as transforms"
   ]
  },
  {
   "cell_type": "code",
   "execution_count": 3,
   "metadata": {},
   "outputs": [],
   "source": [
    "mnist = MNIST(\n",
    "    './data',\n",
    "    train=True,\n",
    "    download=True,\n",
    "    transform=transforms.ToTensor()\n",
    ")"
   ]
  },
  {
   "cell_type": "code",
   "execution_count": 4,
   "metadata": {},
   "outputs": [],
   "source": [
    "testdata = mnist.data.reshape(-1, 28*28) / 255.\n",
    "testdata = testdata[:5000]"
   ]
  },
  {
   "cell_type": "code",
   "execution_count": 5,
   "metadata": {},
   "outputs": [],
   "source": [
    "@jit\n",
    "def entropy(d, beta):\n",
    "    x = - d * beta\n",
    "    y = np.exp(x)\n",
    "    ysum = y.sum()\n",
    "    if ysum < 1e-50:\n",
    "        return -1.\n",
    "    else:\n",
    "        factor = - 1/(np.log(2.) * ysum)\n",
    "        return factor * ((y * x) - (y * np.log(ysum))).sum()\n",
    "    \n",
    "def p_i(d, beta):\n",
    "    x = - d * beta\n",
    "    y = np.exp(x)\n",
    "    ysum = y.sum()\n",
    "    return y / ysum\n",
    "\n",
    "def find_beta(d, perp, upper_bound=1e6):\n",
    "    return root_scalar(\n",
    "        lambda b: entropy(d, b) - np.log2(perp),\n",
    "        bracket=(0.,upper_bound)\n",
    "    ).root"
   ]
  },
  {
   "cell_type": "code",
   "execution_count": 6,
   "metadata": {},
   "outputs": [],
   "source": [
    "def p_ij_sym(x, perp, verbose=False):\n",
    "    num_pts = x.shape[0]\n",
    "    k = min(num_pts - 1, int(3 * perp))\n",
    "    if verbose:\n",
    "        print('Indexing')\n",
    "    index = NNDescent(x, n_neighbors=k)\n",
    "    neighbors = np.empty((num_pts, k-1), dtype=np.int)\n",
    "    p_ij = np.empty((num_pts, k-1))\n",
    "    for i, xi in enumerate(x):\n",
    "        if verbose:\n",
    "            print('Calculating probabilities: {cur}/{tot}'.format(\n",
    "                cur=i+1, tot=num_pts), end='\\r')\n",
    "        nn, dists = index.query([xi], k)\n",
    "        beta = find_beta(dists[0, 1:], perp)\n",
    "        neighbors[i] = nn[0, 1:]\n",
    "        p_ij[i] = p_i(dists[0, 1:], beta)\n",
    "    row_indices = np.repeat(np.arange(num_pts), k-1)\n",
    "    p = csr_matrix((p_ij.ravel(), (row_indices, neighbors.ravel())))\n",
    "    return 0.5*(p + p.transpose())"
   ]
  },
  {
   "cell_type": "code",
   "execution_count": 13,
   "metadata": {},
   "outputs": [
    {
     "name": "stdout",
     "output_type": "stream",
     "text": [
      "Indexing\n"
     ]
    },
    {
     "data": {
      "text/plain": [
       "<5000x5000 sparse matrix of type '<class 'numpy.float64'>'\n",
       "\twith 4263182 stored elements in Compressed Sparse Row format>"
      ]
     },
     "execution_count": 13,
     "metadata": {},
     "output_type": "execute_result"
    }
   ],
   "source": [
    "p_ij_sym(testdata.numpy(), 200, verbose=True)"
   ]
  },
  {
   "cell_type": "code",
   "execution_count": 7,
   "metadata": {},
   "outputs": [],
   "source": [
    "def p_ij_sym_noquery(x, perp, verbose=False):\n",
    "    num_pts = x.shape[0]\n",
    "    k = min(num_pts - 1, int(3 * perp))\n",
    "    if verbose:\n",
    "        print('Indexing')\n",
    "    index = NNDescent(x, n_neighbors=k)\n",
    "    neighbors, p_ij = index.neighbor_graph\n",
    "    neighbors = neighbors[:,1:]\n",
    "    p_ij = p_ij[:,1:]\n",
    "    # neighbors = np.empty((num_pts, k-1), dtype=np.int)\n",
    "    # p_ij = np.empty((num_pts, k-1))\n",
    "    for i, xi in enumerate(x):\n",
    "        if verbose:\n",
    "            print('Calculating probabilities: {cur}/{tot}'.format(\n",
    "                cur=i+1, tot=num_pts), end='\\r')\n",
    "        beta = find_beta(p_ij[i], perp)\n",
    "        p_ij[i] = p_i(p_ij[i], beta)\n",
    "    row_indices = np.repeat(np.arange(num_pts), k-1)\n",
    "    p = csr_matrix((p_ij.ravel(), (row_indices, neighbors.ravel())))\n",
    "    return 0.5*(p + p.transpose())"
   ]
  },
  {
   "cell_type": "code",
   "execution_count": 8,
   "metadata": {},
   "outputs": [
    {
     "name": "stdout",
     "output_type": "stream",
     "text": [
      "Indexing\n"
     ]
    },
    {
     "data": {
      "text/plain": [
       "<5000x5000 sparse matrix of type '<class 'numpy.float32'>'\n",
       "\twith 4262972 stored elements in Compressed Sparse Row format>"
      ]
     },
     "execution_count": 8,
     "metadata": {},
     "output_type": "execute_result"
    }
   ],
   "source": [
    "p_ij_sym_noquery(testdata.numpy(), 200, verbose=True)"
   ]
  },
  {
   "cell_type": "code",
   "execution_count": 17,
   "metadata": {},
   "outputs": [],
   "source": [
    "index = NNDescent(testdata, n_neighbors=500)"
   ]
  },
  {
   "cell_type": "code",
   "execution_count": 18,
   "metadata": {},
   "outputs": [],
   "source": [
    "nn, dist = index.neighbor_graph"
   ]
  },
  {
   "cell_type": "code",
   "execution_count": 26,
   "metadata": {},
   "outputs": [
    {
     "data": {
      "text/plain": [
       "[<matplotlib.lines.Line2D at 0x2629c6c4248>]"
      ]
     },
     "execution_count": 26,
     "metadata": {},
     "output_type": "execute_result"
    },
    {
     "data": {
      "image/png": "[encoded data removed]",
      "text/plain": [
       "<Figure size 432x288 with 1 Axes>"
      ]
     },
     "metadata": {
      "needs_background": "light"
     },
     "output_type": "display_data"
    }
   ],
   "source": [
    "plt.plot(dist[500,1:])"
   ]
  },
  {
   "cell_type": "code",
   "execution_count": 27,
   "metadata": {},
   "outputs": [],
   "source": [
    "foo = nn[0]"
   ]
  },
  {
   "cell_type": "code",
   "execution_count": 37,
   "metadata": {},
   "outputs": [],
   "source": [
    "distmat = csr_matrix((\n",
    "    dist.flatten(),\n",
    "    (np.repeat(np.arange(nn.shape[0]), nn.shape[1]), nn.flatten())\n",
    "))"
   ]
  },
  {
   "cell_type": "code",
   "execution_count": 43,
   "metadata": {},
   "outputs": [
    {
     "data": {
      "text/plain": [
       "<matplotlib.image.AxesImage at 0x2629cad8f08>"
      ]
     },
     "execution_count": 43,
     "metadata": {},
     "output_type": "execute_result"
    },
    {
     "data": {
      "image/png": "[encoded data removed]",
      "text/plain": [
       "<Figure size 432x288 with 1 Axes>"
      ]
     },
     "metadata": {
      "needs_background": "light"
     },
     "output_type": "display_data"
    }
   ],
   "source": [
    "plt.imshow(distmat[np.argsort(mnist.targets[:5000])][:,np.argsort(mnist.targets[:5000])].toarray())"
   ]
  },
  {
   "cell_type": "code",
   "execution_count": 46,
   "metadata": {},
   "outputs": [],
   "source": [
    "from typing import Union, Optional\n",
    "import warnings"
   ]
  },
  {
   "cell_type": "code",
   "execution_count": null,
   "metadata": {},
   "outputs": [],
   "source": [
    "class PairwiseRelationship():\n",
    "\n",
    "    def __init__(\n",
    "        self,\n",
    "        neighborhood_based: bool = False,\n",
    "        n_neighbors: Optional[int] = None,\n",
    "        verbose: bool = False\n",
    "    ):\n",
    "\n",
    "        self.distance_matrix = None\n",
    "        self.scales = None\n",
    "        self.transform_function = None\n",
    "        self.neighborhood_based = neighborhood_based\n",
    "        self.n_neighbors = n_neighbors\n",
    "        self.verbose = verbose\n",
    "\n",
    "    def calculate_distmat(\n",
    "        self,\n",
    "        X: Union[np.array, torch.Tensor]\n",
    "    ):\n",
    "\n",
    "        if self.verbose:\n",
    "            print(f\"{datetime.now()}: Calculating distance matrix.\")\n",
    "\n",
    "        if self.neighborhood_based:\n",
    "            index = NNDescent(X, self.n_neighbors)\n",
    "            neighbors, distances = index.neighbor_graph\n",
    "            self.distance_matrix = csr_matrix((\n",
    "                distances.flatten(), (\n",
    "                    np.repeat(\n",
    "                        np.arange(X.shape[0]),\n",
    "                        self.n_neighbors\n",
    "                    ),\n",
    "                    neighbors.flatten()\n",
    "                )\n",
    "            ))\n",
    "        else:\n",
    "            self.distance_matrix = squareform(\n",
    "                pdist(X)\n",
    "            )"
   ]
  },
  {
   "cell_type": "code",
   "execution_count": null,
   "metadata": {},
   "outputs": [],
   "source": [
    "def p_ij_sym_noquery(x, perp, verbose=False):\n",
    "    num_pts = x.shape[0]\n",
    "    k = min(num_pts - 1, int(3 * perp))\n",
    "    if verbose:\n",
    "        print('Indexing')\n",
    "    index = NNDescent(x, n_neighbors=k)\n",
    "    neighbors, p_ij = index.neighbor_graph\n",
    "    neighbors = neighbors[:,1:]\n",
    "    p_ij = p_ij[:,1:]\n",
    "    # neighbors = np.empty((num_pts, k-1), dtype=np.int)\n",
    "    # p_ij = np.empty((num_pts, k-1))\n",
    "    for i, xi in enumerate(x):\n",
    "        if verbose:\n",
    "            print('Calculating probabilities: {cur}/{tot}'.format(\n",
    "                cur=i+1, tot=num_pts), end='\\r')\n",
    "        beta = find_beta(p_ij[i], perp)\n",
    "        p_ij[i] = p_i(p_ij[i], beta)\n",
    "    row_indices = np.repeat(np.arange(num_pts), k-1)\n",
    "    p = csr_matrix((p_ij.ravel(), (row_indices, neighbors.ravel())))\n",
    "    return 0.5*(p + p.transpose())"
   ]
  }
 ],
 "metadata": {
  "interpreter": {
   "hash": "a7c9f3c5c5217e50e8596266617689c08e27d4baf18921dd4598144a1d3a89bf"
  },
  "kernelspec": {
   "display_name": "Python 3.9.12 ('ml')",
   "language": "python",
   "name": "python3"
  },
  "language_info": {
   "codemirror_mode": {
    "name": "ipython",
    "version": 3
   },
   "file_extension": ".py",
   "mimetype": "text/x-python",
   "name": "python",
   "nbconvert_exporter": "python",
   "pygments_lexer": "ipython3",
   "version": "3.9.12"
  },
  "orig_nbformat": 4
 },
 "nbformat": 4,
 "nbformat_minor": 2
}
